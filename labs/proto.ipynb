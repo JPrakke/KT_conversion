{
 "cells": [
  {
   "cell_type": "code",
   "execution_count": 5,
   "metadata": {},
   "outputs": [],
   "source": [
    "import pandas as pd\n",
    "import os\n",
    "import xlrd"
   ]
  },
  {
   "cell_type": "code",
   "execution_count": 11,
   "metadata": {},
   "outputs": [],
   "source": [
    "template = os.path.join('..','data','upp_template.xlsx' )\n",
    "test_data= os.path.join('..', 'data', 'stoptech-map-prices-10_16_715.xlsx')"
   ]
  },
  {
   "cell_type": "code",
   "execution_count": 24,
   "metadata": {},
   "outputs": [
    {
     "name": "stdout",
     "output_type": "stream",
     "text": [
      "sku\n",
      "map\n"
     ]
    }
   ],
   "source": [
    "test_df = pd.read_excel(test_data)\n",
    "for col in test_df:\n",
    "    print(col)"
   ]
  },
  {
   "cell_type": "code",
   "execution_count": 56,
   "metadata": {},
   "outputs": [],
   "source": [
    "industry_headers = {\n",
    "    'mfg_original_sku':\n",
    "     ['sku'],\n",
    "    'aaid':\n",
    "        [],\n",
    "    'upc':\n",
    "        [],\n",
    "    'map_price':\n",
    "        ['map'],\n",
    "    }\n",
    "template_headers = ['mfg_original_sku','aaid','upc','map_price']\n",
    "input_headers = []\n",
    "for col in test_df:\n",
    "    input_headers.append(col)\n",
    "data_to_change = []"
   ]
  },
  {
   "cell_type": "code",
   "execution_count": 57,
   "metadata": {},
   "outputs": [
    {
     "name": "stdout",
     "output_type": "stream",
     "text": [
      "['sku']\n"
     ]
    }
   ],
   "source": [
    "print(industry_headers['mfg_original_sku'])"
   ]
  },
  {
   "cell_type": "code",
   "execution_count": 59,
   "metadata": {},
   "outputs": [
    {
     "name": "stdout",
     "output_type": "stream",
     "text": [
      "[['sku', 'mfg_original_sku'], ['map', 'map_price']]\n"
     ]
    }
   ],
   "source": [
    "for in_headers in input_headers:\n",
    "    for headers in industry_headers:\n",
    "        for data in industry_headers[headers]:\n",
    "            if in_headers == data:\n",
    "                data_to_change.append([in_headers,headers])\n",
    "print(data_to_change)"
   ]
  },
  {
   "cell_type": "code",
   "execution_count": null,
   "metadata": {},
   "outputs": [],
   "source": []
  }
 ],
 "metadata": {
  "kernelspec": {
   "display_name": "Python 3",
   "language": "python",
   "name": "python3"
  },
  "language_info": {
   "codemirror_mode": {
    "name": "ipython",
    "version": 3
   },
   "file_extension": ".py",
   "mimetype": "text/x-python",
   "name": "python",
   "nbconvert_exporter": "python",
   "pygments_lexer": "ipython3",
   "version": "3.7.3"
  }
 },
 "nbformat": 4,
 "nbformat_minor": 4
}
